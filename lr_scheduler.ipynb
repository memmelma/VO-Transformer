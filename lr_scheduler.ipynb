{
 "cells": [
  {
   "cell_type": "markdown",
   "id": "10a1fad2",
   "metadata": {},
   "source": [
    "https://github.com/BUPT-PRIV/MAE-priv/blob/d79eb23d7c76250aa1b61ee1db8a1b6382c5dbc0/utils/native_scaler.py"
   ]
  },
  {
   "cell_type": "code",
   "execution_count": 3,
   "id": "4ee772d3",
   "metadata": {},
   "outputs": [],
   "source": [
    "import math\n",
    "import numpy as np\n",
    "def cosine_scheduler(base_value, final_value, epochs, niter_per_ep, warmup_epochs=0,\n",
    "                     start_warmup_value=0, warmup_steps=-1):\n",
    "    warmup_schedule = np.array([])\n",
    "    warmup_iters = warmup_epochs * niter_per_ep\n",
    "    if warmup_steps > 0:\n",
    "        warmup_iters = warmup_steps\n",
    "    print(\"Set warmup steps = %d\" % warmup_iters)\n",
    "    if warmup_epochs > 0:\n",
    "        warmup_schedule = np.linspace(start_warmup_value, base_value, warmup_iters)\n",
    "\n",
    "    iters = np.arange(epochs * niter_per_ep - warmup_iters)\n",
    "    schedule = np.array(\n",
    "        [final_value + 0.5 * (base_value - final_value) * (1 + math.cos(math.pi * i / (len(iters)))) for i in iters])\n",
    "\n",
    "    schedule = np.concatenate((warmup_schedule, schedule))\n",
    "\n",
    "    assert len(schedule) == epochs * niter_per_ep\n",
    "    return schedule"
   ]
  },
  {
   "cell_type": "code",
   "execution_count": 5,
   "id": "9d02ae40",
   "metadata": {},
   "outputs": [
    {
     "name": "stdout",
     "output_type": "stream",
     "text": [
      "Set warmup steps = 160\n"
     ]
    },
    {
     "data": {
      "text/plain": [
       "array([0.00000000e+00, 6.28930818e-06, 1.25786164e-05, ...,\n",
       "       1.00002467e-05, 1.00001096e-05, 1.00000274e-05])"
      ]
     },
     "execution_count": 5,
     "metadata": {},
     "output_type": "execute_result"
    }
   ],
   "source": [
    "cosine_scheduler(1e-3, 1e-5, 300, 32, warmup_epochs=5)"
   ]
  },
  {
   "cell_type": "code",
   "execution_count": 11,
   "id": "170d762d",
   "metadata": {},
   "outputs": [
    {
     "name": "stdout",
     "output_type": "stream",
     "text": [
      "Set warmup steps = 32000\n"
     ]
    },
    {
     "data": {
      "text/plain": [
       "[<matplotlib.lines.Line2D at 0x7f680e2fda90>]"
      ]
     },
     "execution_count": 11,
     "metadata": {},
     "output_type": "execute_result"
    },
    {
     "data": {
      "image/png": "[encoded data removed]",
      "text/plain": [
       "<Figure size 432x288 with 1 Axes>"
      ]
     },
     "metadata": {
      "needs_background": "light"
     },
     "output_type": "display_data"
    }
   ],
   "source": [
    "import matplotlib.pyplot as plt\n",
    "plt.plot(cosine_scheduler(1e-3, 1e-5, 5000, 32, warmup_epochs=1000))"
   ]
  },
  {
   "cell_type": "code",
   "execution_count": 24,
   "id": "cc338eee",
   "metadata": {},
   "outputs": [
    {
     "name": "stdout",
     "output_type": "stream",
     "text": [
      "dict_keys(['params', 'lr', 'betas', 'eps', 'weight_decay', 'amsgrad'])\n"
     ]
    }
   ],
   "source": [
    "import torch\n",
    "import timm\n",
    "resnet = timm.create_model(\"resnet18\", pretrained=False)\n",
    "adam = torch.optim.AdamW(resnet.parameters(), lr=1e-3)\n",
    "for i, param_group in enumerate(adam.param_groups):\n",
    "#     param_group[\"lr\"] = lr_schedule_values[it] * param_group[\"lr_scale\"]\n",
    "    print(param_group.keys())"
   ]
  },
  {
   "cell_type": "code",
   "execution_count": null,
   "id": "11ba32ac",
   "metadata": {},
   "outputs": [],
   "source": []
  }
 ],
 "metadata": {
  "kernelspec": {
   "display_name": "Python 3 (ipykernel)",
   "language": "python",
   "name": "python3"
  },
  "language_info": {
   "codemirror_mode": {
    "name": "ipython",
    "version": 3
   },
   "file_extension": ".py",
   "mimetype": "text/x-python",
   "name": "python",
   "nbconvert_exporter": "python",
   "pygments_lexer": "ipython3",
   "version": "3.7.12"
  }
 },
 "nbformat": 4,
 "nbformat_minor": 5
}
