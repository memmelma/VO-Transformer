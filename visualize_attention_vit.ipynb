{
 "cells": [
  {
   "cell_type": "code",
   "execution_count": 1,
   "id": "926962b3",
   "metadata": {},
   "outputs": [],
   "source": [
    "import timm\n",
    "import types\n",
    "\n",
    "model = timm.create_model(\"vit_small_patch16_384\", pretrained=True)\n",
    "\n",
    "def get_last_selfattention(self, x):\n",
    "    x = self.patch_embed(x)\n",
    "    cls_token = self.cls_token.expand(x.shape[0], -1, -1)  # stole cls_tokens impl from Phil Wang, thanks\n",
    "    if self.dist_token is None:\n",
    "        x = torch.cat((cls_token, x), dim=1)\n",
    "    else:\n",
    "        x = torch.cat((cls_token, self.dist_token.expand(x.shape[0], -1, -1), x), dim=1)\n",
    "    x = self.pos_drop(x + self.pos_embed)\n",
    "       \n",
    "    for i, blk in enumerate(self.blocks):\n",
    "        if i < len(self.blocks) - 1:\n",
    "            x = blk(x)\n",
    "        else:\n",
    "            \n",
    "            import types\n",
    "            def forward(self, x, return_attention=False):\n",
    "                y, attn = self.attn(self.norm1(x))\n",
    "                if return_attention:\n",
    "                    return attn\n",
    "                x = x + self.drop_path(y)\n",
    "                x = x + self.drop_path(self.mlp(self.norm2(x)))\n",
    "                return x\n",
    "            blk.forward = types.MethodType(forward, blk)\n",
    "            \n",
    "            def forward(self, x):\n",
    "                B, N, C = x.shape\n",
    "                qkv = self.qkv(x).reshape(B, N, 3, self.num_heads, C // self.num_heads).permute(2, 0, 3, 1, 4)\n",
    "                q, k, v = qkv[0], qkv[1], qkv[2]\n",
    "\n",
    "                attn = (q @ k.transpose(-2, -1)) * self.scale\n",
    "                attn = attn.softmax(dim=-1)\n",
    "                attn = self.attn_drop(attn)\n",
    "\n",
    "                x = (attn @ v).transpose(1, 2).reshape(B, N, C)\n",
    "                x = self.proj(x)\n",
    "                x = self.proj_drop(x)\n",
    "                return x, attn\n",
    "            blk.attn.forward = types.MethodType(forward, blk.attn)\n",
    "            \n",
    "            # return attention of the last block\n",
    "            return blk(x, return_attention=True)\n",
    "        \n",
    "model.get_last_selfattention = types.MethodType(get_last_selfattention, model)\n"
   ]
  },
  {
   "cell_type": "code",
   "execution_count": null,
   "id": "f85c78c1",
   "metadata": {},
   "outputs": [],
   "source": []
  }
 ],
 "metadata": {
  "kernelspec": {
   "display_name": "Python 3 (ipykernel)",
   "language": "python",
   "name": "python3"
  },
  "language_info": {
   "codemirror_mode": {
    "name": "ipython",
    "version": 3
   },
   "file_extension": ".py",
   "mimetype": "text/x-python",
   "name": "python",
   "nbconvert_exporter": "python",
   "pygments_lexer": "ipython3",
   "version": "3.7.0"
  }
 },
 "nbformat": 4,
 "nbformat_minor": 5
}
