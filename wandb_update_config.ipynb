{
 "cells": [
  {
   "cell_type": "code",
   "execution_count": 175,
   "id": "7fb0d2b3",
   "metadata": {},
   "outputs": [],
   "source": [
    "run_name = 'DEP_vo_vit_in21k_finetune_depth'\n",
    "import wandb\n",
    "api = wandb.Api()\n",
    "runs = api.runs(\"vo\")\n",
    "for run in runs:\n",
    "    if run.name == run_name:\n",
    "        config = run.config['config']\n",
    "        config[f\"parameter_count_act_{config['VO']['TRAIN']['action_type']}\"] = 22645583\n",
    "        run.update()\n",
    "        break"
   ]
  },
  {
   "cell_type": "code",
   "execution_count": null,
   "id": "02b64335",
   "metadata": {},
   "outputs": [],
   "source": []
  }
 ],
 "metadata": {
  "kernelspec": {
   "display_name": "Python 3 (ipykernel)",
   "language": "python",
   "name": "python3"
  },
  "language_info": {
   "codemirror_mode": {
    "name": "ipython",
    "version": 3
   },
   "file_extension": ".py",
   "mimetype": "text/x-python",
   "name": "python",
   "nbconvert_exporter": "python",
   "pygments_lexer": "ipython3",
   "version": "3.7.12"
  }
 },
 "nbformat": 4,
 "nbformat_minor": 5
}
