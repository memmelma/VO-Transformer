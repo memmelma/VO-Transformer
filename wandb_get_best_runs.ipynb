{
 "cells": [
  {
   "cell_type": "code",
   "execution_count": 37,
   "id": "43001a7a",
   "metadata": {},
   "outputs": [],
   "source": [
    "import re\n",
    "import wandb\n",
    "import pandas as pd\n",
    "\n",
    "metric = \"Objective/eval_all\"\n",
    "subtract_metric = \"eval_all_unified_depth/aux_depth_loss\"\n",
    "step_threshold = 150 # 75 for tlr\n",
    "\n",
    "name = \"eval_vit_in21k_act\"\n",
    "name = name.replace('eval', 'vo')\n",
    "\n",
    "name = \"vo_vit_in21k_act_auxd\""
   ]
  },
  {
   "cell_type": "code",
   "execution_count": 38,
   "id": "452f59e0",
   "metadata": {},
   "outputs": [
    {
     "data": {
      "text/plain": [
       "(['2ywkkjiy', '2gcsiw8r'],\n",
       " ['vo_vit_in21k_act_auxd[2/2]', 'vo_vit_in21k_act_auxd[1/2]'])"
      ]
     },
     "execution_count": 38,
     "metadata": {},
     "output_type": "execute_result"
    }
   ],
   "source": [
    "# retreive runs\n",
    "\n",
    "run_ids = []\n",
    "run_names = []\n",
    "run_ckpts = []\n",
    "\n",
    "api = wandb.Api()\n",
    "runs = api.runs(\"memmelma/vo\")\n",
    "\n",
    "for run in runs:\n",
    "    if name in run.name:\n",
    "        run_ids += [run.id]\n",
    "        run_names += [run.name]\n",
    "        run_ckpts += [run.config[\"config\"][\"CHECKPOINT_FOLDER\"]]\n",
    "run_ids, run_names"
   ]
  },
  {
   "cell_type": "code",
   "execution_count": 39,
   "id": "0d0d4fbe",
   "metadata": {},
   "outputs": [],
   "source": [
    "# filter runs\n",
    "\n",
    "pattern = name + \"\\[.\\/.]\"\n",
    "\n",
    "run_names_filter = []\n",
    "run_ids_filter = []\n",
    "run_ckpts_filter = []\n",
    "\n",
    "for run_name, run_id, run_ckpt in zip(run_names,run_ids,run_ckpts):\n",
    "    if re.match(pattern, run_name) is not None:\n",
    "        run_names_filter += [run_name]\n",
    "        run_ids_filter += [run_id]\n",
    "        run_ckpts_filter += [run_ckpt]"
   ]
  },
  {
   "cell_type": "code",
   "execution_count": 40,
   "id": "22e7e1f2",
   "metadata": {},
   "outputs": [
    {
     "data": {
      "text/plain": [
       "['vo_vit_in21k_act_auxd[2/2]', 'vo_vit_in21k_act_auxd[1/2]']"
      ]
     },
     "execution_count": 40,
     "metadata": {},
     "output_type": "execute_result"
    }
   ],
   "source": [
    "run_names_filter"
   ]
  },
  {
   "cell_type": "code",
   "execution_count": 41,
   "id": "de96de7f",
   "metadata": {},
   "outputs": [],
   "source": [
    "# combine runs\n",
    "\n",
    "infos = pd.DataFrame([])\n",
    "\n",
    "for run_id, run_ckpt in zip(run_ids_filter, run_ckpts_filter):\n",
    "    \n",
    "    \n",
    "    run = api.run(f\"/memmelma/vo/runs/{run_id}\")\n",
    "    \n",
    "    history = run.history()\n",
    "    select = history[\"_step\"]<=step_threshold\n",
    "    \n",
    "#     info = pd.concat((history[metric][select], history[\"_step\"][select]), axis=1)\n",
    "    if subtract_metric != '':\n",
    "        info = pd.concat((history[metric][select]-history[subtract_metric][select], history[\"_step\"][select]), axis=1)\n",
    "    else:\n",
    "        info = pd.concat((history[metric][select], history[\"_step\"][select]), axis=1)\n",
    "        \n",
    "    info.columns = [metric, \"_step\"]\n",
    "    \n",
    "    info[\"CHECKPOINT_FOLDER\"] = run_ckpt\n",
    "\n",
    "    infos = pd.concat((infos, info))"
   ]
  },
  {
   "cell_type": "code",
   "execution_count": 42,
   "id": "34a7840e",
   "metadata": {},
   "outputs": [
    {
     "data": {
      "text/plain": [
       "'vo_vit_in21k_act_auxd'"
      ]
     },
     "execution_count": 42,
     "metadata": {},
     "output_type": "execute_result"
    }
   ],
   "source": [
    "name"
   ]
  },
  {
   "cell_type": "code",
   "execution_count": 43,
   "id": "8d79f64e",
   "metadata": {},
   "outputs": [
    {
     "data": {
      "text/html": [
       "<div>\n",
       "<style scoped>\n",
       "    .dataframe tbody tr th:only-of-type {\n",
       "        vertical-align: middle;\n",
       "    }\n",
       "\n",
       "    .dataframe tbody tr th {\n",
       "        vertical-align: top;\n",
       "    }\n",
       "\n",
       "    .dataframe thead th {\n",
       "        text-align: right;\n",
       "    }\n",
       "</style>\n",
       "<table border=\"1\" class=\"dataframe\">\n",
       "  <thead>\n",
       "    <tr style=\"text-align: right;\">\n",
       "      <th></th>\n",
       "      <th>Objective/eval_all</th>\n",
       "      <th>_step</th>\n",
       "      <th>CHECKPOINT_FOLDER</th>\n",
       "    </tr>\n",
       "  </thead>\n",
       "  <tbody>\n",
       "    <tr>\n",
       "      <th>56</th>\n",
       "      <td>0.000451</td>\n",
       "      <td>133</td>\n",
       "      <td>train_log/vit/vo_vit_in21k_act_auxd_dt_2022040...</td>\n",
       "    </tr>\n",
       "  </tbody>\n",
       "</table>\n",
       "</div>"
      ],
      "text/plain": [
       "    Objective/eval_all  _step  \\\n",
       "56            0.000451    133   \n",
       "\n",
       "                                    CHECKPOINT_FOLDER  \n",
       "56  train_log/vit/vo_vit_in21k_act_auxd_dt_2022040...  "
      ]
     },
     "execution_count": 43,
     "metadata": {},
     "output_type": "execute_result"
    }
   ],
   "source": [
    "# get best run\n",
    "best_run = infos[infos[metric] == infos[metric].min()]\n",
    "best_run"
   ]
  },
  {
   "cell_type": "code",
   "execution_count": 8,
   "id": "e0210148",
   "metadata": {},
   "outputs": [
    {
     "name": "stdout",
     "output_type": "stream",
     "text": [
      "\n",
      "      \"regress_all_best\": { \n",
      "        \"all\": \"train_log/vit/vo_vit_in21k_act_auxd_dt_20220408_120819651384_s_1/checkpoints/resume_20220412_103253291325/checkpoints/ckpt_epoch_133.pth\",\n",
      "        },\n"
     ]
    }
   ],
   "source": [
    "# print checkpoint\n",
    "print('\\n      \"regress_all_best\": { \\n        \"all\": \"' + best_run[\"CHECKPOINT_FOLDER\"].item() + f'/ckpt_epoch_{best_run[\"_step\"].item()}'+'.pth\",\\n        },')"
   ]
  },
  {
   "cell_type": "code",
   "execution_count": null,
   "id": "fa4944f5",
   "metadata": {},
   "outputs": [],
   "source": []
  },
  {
   "cell_type": "code",
   "execution_count": null,
   "id": "c3f57dc0",
   "metadata": {},
   "outputs": [],
   "source": []
  }
 ],
 "metadata": {
  "kernelspec": {
   "display_name": "Python 3 (ipykernel)",
   "language": "python",
   "name": "python3"
  },
  "language_info": {
   "codemirror_mode": {
    "name": "ipython",
    "version": 3
   },
   "file_extension": ".py",
   "mimetype": "text/x-python",
   "name": "python",
   "nbconvert_exporter": "python",
   "pygments_lexer": "ipython3",
   "version": "3.7.12"
  }
 },
 "nbformat": 4,
 "nbformat_minor": 5
}
